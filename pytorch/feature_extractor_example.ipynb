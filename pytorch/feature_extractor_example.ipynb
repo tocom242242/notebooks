{
  "nbformat": 4,
  "nbformat_minor": 0,
  "metadata": {
    "colab": {
      "provenance": [],
      "authorship_tag": "ABX9TyMi0vCQCe7a6v0j6JqoinTt",
      "include_colab_link": true
    },
    "kernelspec": {
      "name": "python3",
      "display_name": "Python 3"
    },
    "language_info": {
      "name": "python"
    }
  },
  "cells": [
    {
      "cell_type": "markdown",
      "metadata": {
        "id": "view-in-github",
        "colab_type": "text"
      },
      "source": [
        "<a href=\"https://colab.research.google.com/github/tocom242242/notebooks/blob/master/pytorch/feature_extractor_example.ipynb\" target=\"_parent\"><img src=\"https://colab.research.google.com/assets/colab-badge.svg\" alt=\"Open In Colab\"/></a>"
      ]
    },
    {
      "cell_type": "code",
      "execution_count": 1,
      "metadata": {
        "colab": {
          "base_uri": "https://localhost:8080/"
        },
        "id": "uhOP7Xmosg1X",
        "outputId": "7a7ec06c-5f55-4ec5-ba28-2ada70178148"
      },
      "outputs": [
        {
          "output_type": "stream",
          "name": "stdout",
          "text": [
            "torch.Size([1, 64, 56, 56])\n",
            "torch.Size([1, 256, 14, 14])\n"
          ]
        }
      ],
      "source": [
        "import torch\n",
        "from torchvision import models\n",
        "from torchvision.models.feature_extraction import create_feature_extractor\n",
        "model = models.resnet18()\n",
        "extractor = create_feature_extractor(model, [\"layer1\", \"layer3\"])\n",
        "x = torch.randn(1, 3, 224, 224)\n",
        "features = extractor(x)\n",
        "print(features[\"layer1\"].shape)\n",
        "print(features[\"layer3\"].shape)"
      ]
    }
  ]
}