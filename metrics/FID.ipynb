{
  "nbformat": 4,
  "nbformat_minor": 0,
  "metadata": {
    "colab": {
      "provenance": [],
      "machine_shape": "hm",
      "gpuType": "A100",
      "authorship_tag": "ABX9TyMGH95BPz21MZwjokZ7dZ9B",
      "include_colab_link": true
    },
    "kernelspec": {
      "name": "python3",
      "display_name": "Python 3"
    },
    "language_info": {
      "name": "python"
    },
    "accelerator": "GPU"
  },
  "cells": [
    {
      "cell_type": "markdown",
      "metadata": {
        "id": "view-in-github",
        "colab_type": "text"
      },
      "source": [
        "<a href=\"https://colab.research.google.com/github/tocom242242/notebooks/blob/master/metrics/FID.ipynb\" target=\"_parent\"><img src=\"https://colab.research.google.com/assets/colab-badge.svg\" alt=\"Open In Colab\"/></a>"
      ]
    },
    {
      "cell_type": "code",
      "source": [
        "import tensorflow as tf\n",
        "import cv2\n",
        "import numpy as np\n",
        "from tensorflow.keras.applications.inception_v3 import InceptionV3, preprocess_input\n",
        "\n",
        "# 特徴量抽出用のInceptionモデルを読み込む\n",
        "model = InceptionV3(weights='imagenet', include_top=False, pooling=\"avg\")"
      ],
      "metadata": {
        "id": "j9hDE9WZNL7x"
      },
      "execution_count": 9,
      "outputs": []
    },
    {
      "cell_type": "code",
      "execution_count": 10,
      "metadata": {
        "id": "siv1RdMnMWQU"
      },
      "outputs": [],
      "source": [
        "# CIFAR-10データセットを読み込む\n",
        "(_, _), (test_images, test_labels) = tf.keras.datasets.cifar10.load_data()\n",
        "\n",
        "# データの正規化\n",
        "test_images = test_images.astype('float32') / 255.0"
      ]
    },
    {
      "cell_type": "code",
      "source": [
        "# クラスごとにデータを分ける\n",
        "class_images = [[] for _ in range(10)]\n",
        "for image, label in zip(test_images, test_labels):\n",
        "    class_images[label[0]].append(image)\n",
        "\n",
        "class_images = [np.array(images) for images in class_images]"
      ],
      "metadata": {
        "id": "nD8XkqihRtjC"
      },
      "execution_count": 11,
      "outputs": []
    },
    {
      "cell_type": "code",
      "source": [
        "np.array(class_images).shape"
      ],
      "metadata": {
        "colab": {
          "base_uri": "https://localhost:8080/"
        },
        "id": "J5kuk06HNg3U",
        "outputId": "f238c6ea-d5af-4221-e76a-e6e5728d6919"
      },
      "execution_count": 12,
      "outputs": [
        {
          "output_type": "execute_result",
          "data": {
            "text/plain": [
              "(10, 1000, 32, 32, 3)"
            ]
          },
          "metadata": {},
          "execution_count": 12
        }
      ]
    },
    {
      "cell_type": "code",
      "source": [
        "from scipy.linalg import sqrtm\n",
        "# Inceptionモデルに入力できるサイズにリサイズする\n",
        "target_size = (224, 224)\n",
        "def resize(imgs):\n",
        "    resized_imgs = []\n",
        "    for img in imgs:\n",
        "        resized = cv2.resize(img, target_size)\n",
        "        resized_imgs.append(resized)\n",
        "    return np.array(resized_imgs)\n",
        "\n",
        "\n",
        "# fidを計算する\n",
        "def calc_fid(model, imgs1, imgs2):\n",
        "    # 特徴量の抽出\n",
        "    f1 = model.predict(preprocess_input(imgs1))\n",
        "    f2 = model.predict(preprocess_input(imgs2))\n",
        "    # 平均を求める\n",
        "    f1_mean = np.mean(f1,axis=0)\n",
        "    f2_mean = np.mean(f2,axis=0)\n",
        "    # 平均の差を求める\n",
        "    diff = f1_mean - f2_mean\n",
        "    # 共分散行列を求める\n",
        "    f1_sigma = np.cov(f1, rowvar=False)\n",
        "    f2_sigma = np.cov(f2, rowvar=False)\n",
        "    # 共分散行列の積を取り平方根を計算する\n",
        "    sqrt_cov_dotted = sqrtm(f1_sigma.dot(f2_sigma))\n",
        "    # 虚数が含まれる場合には実数のみ用いる\n",
        "    if np.iscomplexobj(sqrt_cov_dotted):\n",
        "        sqrt_cov_dotted = sqrt_cov_dotted.real\n",
        "    fid = np.sum(diff**2.0) + np.trace(f1_sigma+f2_sigma - 2.0*sqrt_cov_dotted)\n",
        "    return fid\n",
        "\n",
        "# 同一クラスのfid\n",
        "resized_imgs1 = resize(class_images[0][:100])\n",
        "resized_imgs2 = resize(class_images[0][:100])\n",
        "\n",
        "fid = calc_fid(model, resized_imgs1, resized_imgs2)\n",
        "print(\"fid1:\",fid)\n",
        "\n",
        "# 別クラスのfid\n",
        "resized_imgs1 = resize(class_images[0][:100])\n",
        "resized_imgs2 = resize(class_images[1][:100])\n",
        "\n",
        "fid = calc_fid(model, resized_imgs1, resized_imgs2)\n",
        "print(\"fid2:\",fid)\n"
      ],
      "metadata": {
        "colab": {
          "base_uri": "https://localhost:8080/"
        },
        "id": "g2Hiqw01NUyk",
        "outputId": "fbf818b7-66ab-4058-e5b2-b20b1710b770"
      },
      "execution_count": 13,
      "outputs": [
        {
          "output_type": "stream",
          "name": "stdout",
          "text": [
            "4/4 [==============================] - 1s 14ms/step\n",
            "4/4 [==============================] - 0s 13ms/step\n",
            "fid1: -4.0880048937223173e-07\n",
            "4/4 [==============================] - 0s 13ms/step\n",
            "4/4 [==============================] - 0s 13ms/step\n",
            "fid2: 0.5700966585587528\n"
          ]
        }
      ]
    }
  ]
}