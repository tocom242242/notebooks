{
  "nbformat": 4,
  "nbformat_minor": 0,
  "metadata": {
    "colab": {
      "provenance": [],
      "authorship_tag": "ABX9TyNEdJdzpht44EoC20iKMMDX",
      "include_colab_link": true
    },
    "kernelspec": {
      "name": "python3",
      "display_name": "Python 3"
    },
    "language_info": {
      "name": "python"
    }
  },
  "cells": [
    {
      "cell_type": "markdown",
      "metadata": {
        "id": "view-in-github",
        "colab_type": "text"
      },
      "source": [
        "<a href=\"https://colab.research.google.com/github/tocom242242/notebooks/blob/master/nn_basic/conv/conv_flops.ipynb\" target=\"_parent\"><img src=\"https://colab.research.google.com/assets/colab-badge.svg\" alt=\"Open In Colab\"/></a>"
      ]
    },
    {
      "cell_type": "code",
      "execution_count": null,
      "metadata": {
        "id": "zuYr9zYsitx6"
      },
      "outputs": [],
      "source": [
        "W_in = 100\n",
        "H_in = 100\n",
        "C_in = 1\n",
        "C_out = 1\n",
        "K_width = 3\n",
        "K_height = 3\n",
        "S = 1\n",
        "\n",
        "W_out = (W_in - K_width) // S + 1\n",
        "H_out = (H_in - K_height) // S + 1\n",
        "\n",
        "print(\"W_out:\", W_out, \"H_out:\", H_out)\n",
        "\n",
        "FLOPs_per_operation = (K_width * K_height + (K_width * K_height - 1)) * C_in\n",
        "\n",
        "Total_FLOPs = FLOPs_per_operation * W_out * H_out * C_out\n",
        "Total_FLOPs"
      ]
    }
  ]
}